{
 "cells": [
  {
   "cell_type": "code",
   "execution_count": 1,
   "metadata": {
    "collapsed": true
   },
   "outputs": [],
   "source": [
    "from iplotter import C3Plotter\n",
    "plotter = C3Plotter()"
   ]
  },
  {
   "cell_type": "markdown",
   "metadata": {},
   "source": [
    "### Elasticidade-preço (EP)\n",
    "\n",
    "Compreende a representação da relação existente entre as variações relativas de preço (Alfa P) e as variações relativas de quantidade (Qp). Cada produto, ou linha de produtos terá uma elasticidade-preço caracteristica:\n",
    "\n",
    "Os tipos de elasticidade-preço são os seguintes:\n",
    "\n",
    "* Unitário:\n",
    "    * Considerado um caso especial, por ser previsto, mas não ter aplicação prática conhecida. Neste caso uma variação relativa dos preços deveria provocar uma variação relativa das quantidades (exatamente) na mesma intensidade\n",
    "    * Unitário:  α P / α q = /1/\n"
   ]
  },
  {
   "cell_type": "code",
   "execution_count": 2,
   "metadata": {
    "scrolled": true
   },
   "outputs": [
    {
     "data": {
      "text/html": [
       "<iframe srcdoc=\"\n",
       "        <!-- Load c3.css -->\n",
       "        <link href='https://cdnjs.cloudflare.com/ajax/libs/c3/0.4.10/c3.min.css' rel='stylesheet' type='text/css'/>\n",
       "\n",
       "        <!-- Load d3.js and c3.js -->\n",
       "        <script src='http://d3js.org/d3.v3.min.js' charset='utf-8'></script>\n",
       "        <script src='http://cdnjs.cloudflare.com/ajax/libs/c3/0.4.10/c3.min.js'></script>\n",
       "\n",
       "    \n",
       "        <div id=chart style='width: 100%; height: 100%'></div>\n",
       "        <script>\n",
       "            var chart = document.getElementById('chart');\n",
       "            var data = {\n",
       "    'data': {\n",
       "        'columns': [\n",
       "            [\n",
       "                'precos',\n",
       "                750,\n",
       "                450,\n",
       "                250,\n",
       "                200,\n",
       "                150,\n",
       "                100,\n",
       "                50,\n",
       "                0\n",
       "            ]\n",
       "        ],\n",
       "        'types': {\n",
       "            'precos': 'area-spline'\n",
       "        }\n",
       "    }\n",
       "};\n",
       "            data['bindto']='#chart'\n",
       "            c3.generate(data);\n",
       "        </script>\n",
       "    \" src=\"\" width=\"800\" height=\"420\" frameborder=0 sandbox=\"allow-scripts\"></iframe>"
      ],
      "text/plain": [
       "<IPython.core.display.HTML object>"
      ]
     },
     "execution_count": 2,
     "metadata": {},
     "output_type": "execute_result"
    }
   ],
   "source": [
    "unitario = {\n",
    "    \"data\": {\n",
    "        \"columns\": [\n",
    "            ['precos', 750, 450 ,250, 200, 150, 100, 50, 0]\n",
    "        ],\n",
    "        \"types\": {\n",
    "            \"precos\": 'area-spline'\n",
    "        }\n",
    "    }\n",
    "}\n",
    "\n",
    "plotter.plot(unitario)"
   ]
  },
  {
   "cell_type": "markdown",
   "metadata": {},
   "source": [
    "* Elástico\n",
    "    * Considerado um caso usual, caracteristico de produtos e serviços não-essenciais. Neste caso uma variação relativa dos preços provoca uma variação relativa nas quantidades em maior intensidade;\n",
    "    * Elástico: α P / α q < /1/"
   ]
  },
  {
   "cell_type": "code",
   "execution_count": 3,
   "metadata": {
    "scrolled": true
   },
   "outputs": [
    {
     "data": {
      "text/html": [
       "<iframe srcdoc=\"\n",
       "        <!-- Load c3.css -->\n",
       "        <link href='https://cdnjs.cloudflare.com/ajax/libs/c3/0.4.10/c3.min.css' rel='stylesheet' type='text/css'/>\n",
       "\n",
       "        <!-- Load d3.js and c3.js -->\n",
       "        <script src='http://d3js.org/d3.v3.min.js' charset='utf-8'></script>\n",
       "        <script src='http://cdnjs.cloudflare.com/ajax/libs/c3/0.4.10/c3.min.js'></script>\n",
       "\n",
       "    \n",
       "        <div id=chart style='width: 100%; height: 100%'></div>\n",
       "        <script>\n",
       "            var chart = document.getElementById('chart');\n",
       "            var data = {\n",
       "    'data': {\n",
       "        'columns': [\n",
       "            [\n",
       "                'precos',\n",
       "                250,\n",
       "                150,\n",
       "                100,\n",
       "                50,\n",
       "                0\n",
       "            ]\n",
       "        ]\n",
       "    }\n",
       "};\n",
       "            data['bindto']='#chart'\n",
       "            c3.generate(data);\n",
       "        </script>\n",
       "    \" src=\"\" width=\"800\" height=\"420\" frameborder=0 sandbox=\"allow-scripts\"></iframe>"
      ],
      "text/plain": [
       "<IPython.core.display.HTML object>"
      ]
     },
     "execution_count": 3,
     "metadata": {},
     "output_type": "execute_result"
    }
   ],
   "source": [
    "elastico = {\n",
    "    \"data\": {\n",
    "        \"columns\": [\n",
    "            ['precos', 250,150, 100, 50, 0]\n",
    "        ]\n",
    "    }\n",
    "}\n",
    "\n",
    "plotter.plot(elastico)"
   ]
  },
  {
   "cell_type": "markdown",
   "metadata": {},
   "source": [
    "* Inelástico:\n",
    "    * Considerado um caso usual, caracteristico de produtos e serviços considerados essenciais. Neste caso uma variação realtiva dos preços provoca uma variação relativa nas quantidade em menor intensidade;\n",
    "    * Inelástico: α P / α q > /1/"
   ]
  },
  {
   "cell_type": "code",
   "execution_count": 4,
   "metadata": {
    "scrolled": true
   },
   "outputs": [
    {
     "data": {
      "text/html": [
       "<iframe srcdoc=\"\n",
       "        <!-- Load c3.css -->\n",
       "        <link href='https://cdnjs.cloudflare.com/ajax/libs/c3/0.4.10/c3.min.css' rel='stylesheet' type='text/css'/>\n",
       "\n",
       "        <!-- Load d3.js and c3.js -->\n",
       "        <script src='http://d3js.org/d3.v3.min.js' charset='utf-8'></script>\n",
       "        <script src='http://cdnjs.cloudflare.com/ajax/libs/c3/0.4.10/c3.min.js'></script>\n",
       "\n",
       "    \n",
       "        <div id=chart style='width: 100%; height: 100%'></div>\n",
       "        <script>\n",
       "            var chart = document.getElementById('chart');\n",
       "            var data = {\n",
       "    'data': {\n",
       "        'columns': [\n",
       "            [\n",
       "                'precos',\n",
       "                900,\n",
       "                0\n",
       "            ]\n",
       "        ]\n",
       "    }\n",
       "};\n",
       "            data['bindto']='#chart'\n",
       "            c3.generate(data);\n",
       "        </script>\n",
       "    \" src=\"\" width=\"800\" height=\"420\" frameborder=0 sandbox=\"allow-scripts\"></iframe>"
      ],
      "text/plain": [
       "<IPython.core.display.HTML object>"
      ]
     },
     "execution_count": 4,
     "metadata": {},
     "output_type": "execute_result"
    }
   ],
   "source": [
    "inelastico = {\n",
    "    \"data\": {\n",
    "        \"columns\": [\n",
    "            ['precos',900, 0]\n",
    "        ]\n",
    "    }\n",
    "}\n",
    "plotter.plot(inelastico)"
   ]
  },
  {
   "cell_type": "markdown",
   "metadata": {},
   "source": [
    "* Anelástico:\n",
    "    * Considerado um caso especial, caracteristico de produtos/serviços com demanda conderada vital e oferta inflexivel. Neste caso as variações relativas de preço não são capazes de provocar alterações nas quantidades, que permanecem fixas;\n",
    "    * Anelástico: α P / α q = zero"
   ]
  },
  {
   "cell_type": "markdown",
   "metadata": {},
   "source": [
    "* Perfeitamente elástico:\n",
    "    * Considerado um caso especial, cuja demanda é totalmente supérflua e a oferta invendavel ou inseruivel. Neste Caso as variações relativas de preço não são capazes de gerar qualquer quantidade ofertada ou demandada;\n",
    "    * P elastico: (α P / α q) = ∞"
   ]
  },
  {
   "cell_type": "code",
   "execution_count": 5,
   "metadata": {
    "scrolled": true
   },
   "outputs": [
    {
     "data": {
      "text/html": [
       "<iframe srcdoc=\"\n",
       "        <!-- Load c3.css -->\n",
       "        <link href='https://cdnjs.cloudflare.com/ajax/libs/c3/0.4.10/c3.min.css' rel='stylesheet' type='text/css'/>\n",
       "\n",
       "        <!-- Load d3.js and c3.js -->\n",
       "        <script src='http://d3js.org/d3.v3.min.js' charset='utf-8'></script>\n",
       "        <script src='http://cdnjs.cloudflare.com/ajax/libs/c3/0.4.10/c3.min.js'></script>\n",
       "\n",
       "    \n",
       "        <div id=chart style='width: 100%; height: 100%'></div>\n",
       "        <script>\n",
       "            var chart = document.getElementById('chart');\n",
       "            var data = {\n",
       "    'data': {\n",
       "        'columns': [\n",
       "            [\n",
       "                'precos',\n",
       "                5,\n",
       "                5,\n",
       "                5,\n",
       "                5,\n",
       "                5\n",
       "            ]\n",
       "        ]\n",
       "    }\n",
       "};\n",
       "            data['bindto']='#chart'\n",
       "            c3.generate(data);\n",
       "        </script>\n",
       "    \" src=\"\" width=\"800\" height=\"420\" frameborder=0 sandbox=\"allow-scripts\"></iframe>"
      ],
      "text/plain": [
       "<IPython.core.display.HTML object>"
      ]
     },
     "execution_count": 5,
     "metadata": {},
     "output_type": "execute_result"
    }
   ],
   "source": [
    "perfect_elastico = {\n",
    "    \"data\":{\n",
    "        \"columns\": [\n",
    "            ['precos', 5, 5, 5, 5, 5]\n",
    "        ]\n",
    "    }\n",
    "}\n",
    "plotter.plot(perfect_elastico)"
   ]
  },
  {
   "cell_type": "markdown",
   "metadata": {},
   "source": [
    "OBS:\n",
    "\n",
    "A variação relativa é percentual, e tem relação inversamente proporcional com as variações nominais. Ex: \n",
    "\n",
    "\n",
    "| Valor inicial |        α      |  Valor final  |       α%      |  \n",
    "|---------------|---------------|---------------|---------------|\n",
    "|       1       |       10      |      100      |      1000     |\n",
    "|---------------|---------------|---------------|---------------|\n",
    "|       1       |       1       |       1       |       1       |\n",
    "|---------------|---------------|---------------|---------------|\n",
    "|       2       |      11       |      101      |      1001     |\n",
    "|---------------|---------------|---------------|---------------|\n",
    "|      100%     |     100%      |       1%      |      0.1%     |"
   ]
  }
 ],
 "metadata": {
  "kernelspec": {
   "display_name": "Python 3",
   "language": "python",
   "name": "python3"
  },
  "language_info": {
   "codemirror_mode": {
    "name": "ipython",
    "version": 3
   },
   "file_extension": ".py",
   "mimetype": "text/x-python",
   "name": "python",
   "nbconvert_exporter": "python",
   "pygments_lexer": "ipython3",
   "version": "3.6.2"
  }
 },
 "nbformat": 4,
 "nbformat_minor": 2
}
