{
 "cells": [
  {
   "cell_type": "markdown",
   "metadata": {},
   "source": [
    "### Inflação de demanda\n",
    "\n",
    "* Inflação de demanda\n",
    "\n",
    "Quando o aumento da demanda é temporário o empresário não se vê estimulado a fazer investimento para expansão dos níveis de oferta, o que poderia justificar eventuais aumentos de preço.\n",
    "\n",
    "Contudo, nem sempre é fácil determinar se está sendo atendida uma \"demanda reprimida\" (Bolha de consumo, temporária). Que não se sustenta no tempo, ou se está atendendo a um aumento efetivo e consiste de demanda. Neste último caso o aumento dos níveis de preço pode ajudar as empresas a \"ganhar tempo\" necessário para melhorar sua estrutura para poder aumentar sua capacidade de produção, atendendo seu mercado caso isto não ocorra é quase certo que surgirá outra organização (competidora) que tentará atender \"demanda reprimida\".\n",
    "\n",
    "O governo tem duas lihas de ação para tentar conter a inflação de demanda:\n",
    "\n",
    "- Medidas restritivas de consumo: \n",
    "    - Aumento da taxa básica de juros;\n",
    "    - Aumento de impostos;\n",
    "    - Aumento da \"taxa de redesconto bancário\" (Parcela dos depositos à vista, feitos nos bancos comerciais, que são compulsóriamente retidos pelo banco central), entre outras;\n",
    "    \n",
    "- Medidas expansionistas de oferta:\n",
    "    - Inseção de impostos (Inclusive de importação, se for o caso);\n",
    "    - Subsidio de produção;\n",
    "    - Redução taxa de juros para produção (Capital de giro e/ou modernização da produção);\n",
    "    - Subversão econômica para atividades de pesquisa e de desenvolvimento. Entre outras.\n",
    " \n",
    " * Inflação de custos:\n",
    " \n",
    " É aquela qye ocorre quando se estabelece uma rotina de \" -repasse- dos aumentos dos custos para os preços\". Neste caso pode-se observar dois movimentos distintos.\n",
    " \n",
    " - Inflação de custos à posteriori: Neste caso há um aumento dos custos (Fato econômico-social) que será avaliado pela \"economia positiva\", que gerará indíce ou indicador econômico correspondente. Neste caso as empresas aguardam a divulgação dos índices econômicos para \"posteriormente\" -reajustar- os preços. Trata-se de um movimento que tem como base \"fatores geradores\" conhecidos, sobre os quais o \"governo\" pode agir para conter a inflação. Em outros casos existe uma \"flutuação\" aguardada, como no caso dos periodos de \"entre safra\", ou \"seca\" este modelo é criticado por demorar para repor a inflação ocorrida, gerando perdas para as empresas.\n",
    " \n",
    " - Inflação de custos à priori: Trata-se de uma \"evolução\" do modelo à posteriori. Neste caso os \"tomadores de decisão\" passam a -reajustar- preventivamente os preços correntes, com base numa \"expectativa de inflação futura\". No inicio tal expectativa era baseada numa média aritmética dos últimos índices de inflação, contudo, com o decorrer do tempo passa a ter dinâmica própria perndendo totalmente a referência com a realidade. Neste caso a expectativa se dá pela \"expertise\" de agentes econômicos (Pesquisadores, analistas, institutos, jornalistas e afins), não havendo fato gerador conhecido ou terminado. Desta forma não há formas do governo agir para conter esta modalidade inflacionária que se retroalimente (Aspecto inercial da inflação). Deste modo a inflação de custos à priori se torna uma \"profelia auto-realizável\". Uma vez que qualquer que seja o índice previamente escolhido para reajustar os preços o mesmo será detectado posteriormente pela economia positiva, que valida o aumento (Podendo inclive maiorá-lo, devido ao \"efeito cascata\" que pode ser observado). A busca pela agilidade em \"repor\" a inflação gera um dos modelos mais difíceis de ser combatido, por ter origem interminada.\n",
    " \n",
    " * Deflação:\n",
    " \n",
    " Movimentado sistemáticamente, prolongado e persistente de redução dos níveis gerais de preço. Neste caso deve-se observar que a redução dos níveis de preço decorre da incapacidade da manutenção dos níveis de consumo, seja pela precização do emprego/renda, desemprego, fatores não econômicos (Secas, pragas, guerras) ou ainda envelhecimento populacional."
   ]
  }
 ],
 "metadata": {
  "kernelspec": {
   "display_name": "Python 3",
   "language": "python",
   "name": "python3"
  },
  "language_info": {
   "codemirror_mode": {
    "name": "ipython",
    "version": 3
   },
   "file_extension": ".py",
   "mimetype": "text/x-python",
   "name": "python",
   "nbconvert_exporter": "python",
   "pygments_lexer": "ipython3",
   "version": "3.6.2"
  }
 },
 "nbformat": 4,
 "nbformat_minor": 2
}
