{
 "cells": [
  {
   "cell_type": "code",
   "execution_count": 1,
   "metadata": {
    "collapsed": true
   },
   "outputs": [],
   "source": [
    "from iplotter import C3Plotter\n",
    "plotter = C3Plotter()"
   ]
  },
  {
   "cell_type": "markdown",
   "metadata": {},
   "source": [
    "Variação qualitativa X Variação quantitativa\n",
    "\n",
    "Existem duas maneiras de variar as quantidades ofertadas (Qs) e/ou demandada (Qd), conforme visto à seguir:\n",
    "\n",
    "* Variação quantitativa:\n",
    "    * É aquela em que as quantidades variam em função da variação dos níveis de preço\n",
    "\n",
    "* Oferta:\n",
    "    * Diretamente proporcional;"
   ]
  },
  {
   "cell_type": "code",
   "execution_count": 2,
   "metadata": {},
   "outputs": [
    {
     "data": {
      "text/html": [
       "<iframe srcdoc=\"\n",
       "        <!-- Load c3.css -->\n",
       "        <link href='https://cdnjs.cloudflare.com/ajax/libs/c3/0.4.10/c3.min.css' rel='stylesheet' type='text/css'/>\n",
       "\n",
       "        <!-- Load d3.js and c3.js -->\n",
       "        <script src='http://d3js.org/d3.v3.min.js' charset='utf-8'></script>\n",
       "        <script src='http://cdnjs.cloudflare.com/ajax/libs/c3/0.4.10/c3.min.js'></script>\n",
       "\n",
       "    \n",
       "        <div id=chart style='width: 100%; height: 100%'></div>\n",
       "        <script>\n",
       "            var chart = document.getElementById('chart');\n",
       "            var data = {\n",
       "    'data': {\n",
       "        'columns': [\n",
       "            [\n",
       "                'preco',\n",
       "                20,\n",
       "                25,\n",
       "                40,\n",
       "                70,\n",
       "                110\n",
       "            ]\n",
       "        ]\n",
       "    }\n",
       "};\n",
       "            data['bindto']='#chart'\n",
       "            c3.generate(data);\n",
       "        </script>\n",
       "    \" src=\"\" width=\"800\" height=\"420\" frameborder=0 sandbox=\"allow-scripts\"></iframe>"
      ],
      "text/plain": [
       "<IPython.core.display.HTML object>"
      ]
     },
     "execution_count": 2,
     "metadata": {},
     "output_type": "execute_result"
    }
   ],
   "source": [
    "oferta_diretamenteProporcional = {\n",
    "    \"data\":{\n",
    "        \"columns\": [\n",
    "            ['preco', 20, 25, 40, 70, 110]\n",
    "        ]\n",
    "    }\n",
    "}\n",
    "\n",
    "\n",
    "plotter.plot(oferta_diretamenteProporcional)"
   ]
  },
  {
   "cell_type": "markdown",
   "metadata": {},
   "source": [
    "* Demanda\n",
    "    * Inversamente proporcional"
   ]
  },
  {
   "cell_type": "code",
   "execution_count": 3,
   "metadata": {},
   "outputs": [
    {
     "data": {
      "text/html": [
       "<iframe srcdoc=\"\n",
       "        <!-- Load c3.css -->\n",
       "        <link href='https://cdnjs.cloudflare.com/ajax/libs/c3/0.4.10/c3.min.css' rel='stylesheet' type='text/css'/>\n",
       "\n",
       "        <!-- Load d3.js and c3.js -->\n",
       "        <script src='http://d3js.org/d3.v3.min.js' charset='utf-8'></script>\n",
       "        <script src='http://cdnjs.cloudflare.com/ajax/libs/c3/0.4.10/c3.min.js'></script>\n",
       "\n",
       "    \n",
       "        <div id=chart style='width: 100%; height: 100%'></div>\n",
       "        <script>\n",
       "            var chart = document.getElementById('chart');\n",
       "            var data = {\n",
       "    'data': {\n",
       "        'columns': [\n",
       "            [\n",
       "                'demanda',\n",
       "                70,\n",
       "                35,\n",
       "                20,\n",
       "                15,\n",
       "                10,\n",
       "                5,\n",
       "                0\n",
       "            ]\n",
       "        ]\n",
       "    }\n",
       "};\n",
       "            data['bindto']='#chart'\n",
       "            c3.generate(data);\n",
       "        </script>\n",
       "    \" src=\"\" width=\"800\" height=\"420\" frameborder=0 sandbox=\"allow-scripts\"></iframe>"
      ],
      "text/plain": [
       "<IPython.core.display.HTML object>"
      ]
     },
     "execution_count": 3,
     "metadata": {},
     "output_type": "execute_result"
    }
   ],
   "source": [
    "demanda_inversamente_proporcional = {\n",
    "    \"data\": {\n",
    "        \"columns\": [\n",
    "            ['demanda', 70, 35, 20, 15, 10, 5, 0]\n",
    "        ]\n",
    "    }\n",
    "}\n",
    "\n",
    "plotter.plot(demanda_inversamente_proporcional)"
   ]
  },
  {
   "cell_type": "markdown",
   "metadata": {
    "collapsed": true
   },
   "source": [
    "* Variação qualitativa\n",
    "    * È aquela em que as quantidades variam a preço fixo. Isto ocorre em função da variação da qualidade da renda (Com reflexo na oferta).\n",
    "    * Neste caso ocorrerá um \"deslocamento\" das curvas de oferta e/ou demanda, conforme a seguinte lógica:\n",
    "    \n",
    "    * Melhoras:\n",
    "        * Desloca para direita;\n",
    "    * Pioras:\n",
    "        * Desloca para esquerda;"
   ]
  },
  {
   "cell_type": "code",
   "execution_count": 4,
   "metadata": {},
   "outputs": [
    {
     "data": {
      "text/html": [
       "<iframe srcdoc=\"\n",
       "        <!-- Load c3.css -->\n",
       "        <link href='https://cdnjs.cloudflare.com/ajax/libs/c3/0.4.10/c3.min.css' rel='stylesheet' type='text/css'/>\n",
       "\n",
       "        <!-- Load d3.js and c3.js -->\n",
       "        <script src='http://d3js.org/d3.v3.min.js' charset='utf-8'></script>\n",
       "        <script src='http://cdnjs.cloudflare.com/ajax/libs/c3/0.4.10/c3.min.js'></script>\n",
       "\n",
       "    \n",
       "        <div id=chart style='width: 100%; height: 100%'></div>\n",
       "        <script>\n",
       "            var chart = document.getElementById('chart');\n",
       "            var data = {\n",
       "    'data': {\n",
       "        'xs': {\n",
       "            'QS1': 'x1',\n",
       "            'QS2': 'x2',\n",
       "            'QS3': 'x3'\n",
       "        },\n",
       "        'columns': [\n",
       "            [\n",
       "                'x1',\n",
       "                0,\n",
       "                30,\n",
       "                45\n",
       "            ],\n",
       "            [\n",
       "                'x2',\n",
       "                20,\n",
       "                45,\n",
       "                75\n",
       "            ],\n",
       "            [\n",
       "                'x3',\n",
       "                50,\n",
       "                80,\n",
       "                90\n",
       "            ],\n",
       "            [\n",
       "                'QS1',\n",
       "                0,\n",
       "                200,\n",
       "                400\n",
       "            ],\n",
       "            [\n",
       "                'QS2',\n",
       "                20,\n",
       "                160,\n",
       "                480\n",
       "            ],\n",
       "            [\n",
       "                'QS3',\n",
       "                20,\n",
       "                270,\n",
       "                400\n",
       "            ]\n",
       "        ]\n",
       "    }\n",
       "};\n",
       "            data['bindto']='#chart'\n",
       "            c3.generate(data);\n",
       "        </script>\n",
       "    \" src=\"\" width=\"800\" height=\"420\" frameborder=0 sandbox=\"allow-scripts\"></iframe>"
      ],
      "text/plain": [
       "<IPython.core.display.HTML object>"
      ]
     },
     "execution_count": 4,
     "metadata": {},
     "output_type": "execute_result"
    }
   ],
   "source": [
    "oferta_qualitativa = {\n",
    "    \"data\": {\n",
    "        \"xs\": {\n",
    "            'QS1': 'x1',\n",
    "            'QS2': 'x2',\n",
    "            'QS3': 'x3'\n",
    "        },\n",
    "        \"columns\": [\n",
    "            ['x1', 0, 30, 45],\n",
    "            ['x2', 20, 45, 75],\n",
    "            ['x3', 50, 80, 90],\n",
    "            ['QS1', 0, 200, 400],\n",
    "            ['QS2', 20, 160, 480],\n",
    "            ['QS3', 20, 270, 400]\n",
    "        ]\n",
    "    }\n",
    "}\n",
    "plotter.plot(oferta_qualitativa)"
   ]
  },
  {
   "cell_type": "code",
   "execution_count": 5,
   "metadata": {},
   "outputs": [
    {
     "data": {
      "text/html": [
       "<iframe srcdoc=\"\n",
       "        <!-- Load c3.css -->\n",
       "        <link href='https://cdnjs.cloudflare.com/ajax/libs/c3/0.4.10/c3.min.css' rel='stylesheet' type='text/css'/>\n",
       "\n",
       "        <!-- Load d3.js and c3.js -->\n",
       "        <script src='http://d3js.org/d3.v3.min.js' charset='utf-8'></script>\n",
       "        <script src='http://cdnjs.cloudflare.com/ajax/libs/c3/0.4.10/c3.min.js'></script>\n",
       "\n",
       "    \n",
       "        <div id=chart style='width: 100%; height: 100%'></div>\n",
       "        <script>\n",
       "            var chart = document.getElementById('chart');\n",
       "            var data = {\n",
       "    'data': {\n",
       "        'xs': {\n",
       "            'QS1': 'x1',\n",
       "            'QS2': 'x2',\n",
       "            'QS3': 'x3'\n",
       "        },\n",
       "        'columns': [\n",
       "            [\n",
       "                'x1',\n",
       "                45,\n",
       "                20,\n",
       "                0\n",
       "            ],\n",
       "            [\n",
       "                'x2',\n",
       "                75,\n",
       "                45,\n",
       "                20\n",
       "            ],\n",
       "            [\n",
       "                'x3',\n",
       "                50,\n",
       "                65,\n",
       "                90\n",
       "            ],\n",
       "            [\n",
       "                'QS1',\n",
       "                0,\n",
       "                200,\n",
       "                400\n",
       "            ],\n",
       "            [\n",
       "                'QS2',\n",
       "                20,\n",
       "                160,\n",
       "                480\n",
       "            ],\n",
       "            [\n",
       "                'QS3',\n",
       "                450,\n",
       "                200,\n",
       "                50\n",
       "            ]\n",
       "        ]\n",
       "    }\n",
       "};\n",
       "            data['bindto']='#chart'\n",
       "            c3.generate(data);\n",
       "        </script>\n",
       "    \" src=\"\" width=\"800\" height=\"420\" frameborder=0 sandbox=\"allow-scripts\"></iframe>"
      ],
      "text/plain": [
       "<IPython.core.display.HTML object>"
      ]
     },
     "execution_count": 5,
     "metadata": {},
     "output_type": "execute_result"
    }
   ],
   "source": [
    "demanda_qualitativa = {\n",
    "    \"data\": {\n",
    "        \"xs\": {\n",
    "            'QS1': 'x1',\n",
    "            'QS2': 'x2',\n",
    "            'QS3': 'x3'\n",
    "        },\n",
    "        \"columns\": [\n",
    "            ['x1', 45, 20, 0],\n",
    "            ['x2', 75, 45, 20],\n",
    "            ['x3', 50, 65, 90],\n",
    "            ['QS1', 0, 200, 400],\n",
    "            ['QS2', 20, 160, 480],\n",
    "            ['QS3', 450, 200, 50]\n",
    "        ]\n",
    "    }\n",
    "}\n",
    "plotter.plot(demanda_qualitativa)"
   ]
  },
  {
   "cell_type": "markdown",
   "metadata": {},
   "source": [
    "Exemplo: O que acontece com a inflação e o poder de compra quando há aumento do salário mínimo ?"
   ]
  },
  {
   "cell_type": "code",
   "execution_count": 6,
   "metadata": {},
   "outputs": [
    {
     "data": {
      "text/html": [
       "<iframe srcdoc=\"\n",
       "        <!-- Load c3.css -->\n",
       "        <link href='https://cdnjs.cloudflare.com/ajax/libs/c3/0.4.10/c3.min.css' rel='stylesheet' type='text/css'/>\n",
       "\n",
       "        <!-- Load d3.js and c3.js -->\n",
       "        <script src='http://d3js.org/d3.v3.min.js' charset='utf-8'></script>\n",
       "        <script src='http://cdnjs.cloudflare.com/ajax/libs/c3/0.4.10/c3.min.js'></script>\n",
       "\n",
       "    \n",
       "        <div id=chart style='width: 100%; height: 100%'></div>\n",
       "        <script>\n",
       "            var chart = document.getElementById('chart');\n",
       "            var data = {\n",
       "    'data': {\n",
       "        'xs': {\n",
       "            'data1': 'x1',\n",
       "            'data2': 'x2'\n",
       "        },\n",
       "        'columns': [\n",
       "            [\n",
       "                'x1',\n",
       "                0,\n",
       "                20,\n",
       "                45\n",
       "            ],\n",
       "            [\n",
       "                'x2',\n",
       "                45,\n",
       "                20,\n",
       "                0\n",
       "            ],\n",
       "            [\n",
       "                'data1',\n",
       "                0,\n",
       "                200,\n",
       "                400\n",
       "            ],\n",
       "            [\n",
       "                'data2',\n",
       "                45,\n",
       "                200,\n",
       "                400\n",
       "            ]\n",
       "        ]\n",
       "    }\n",
       "};\n",
       "            data['bindto']='#chart'\n",
       "            c3.generate(data);\n",
       "        </script>\n",
       "    \" src=\"\" width=\"800\" height=\"420\" frameborder=0 sandbox=\"allow-scripts\"></iframe>"
      ],
      "text/plain": [
       "<IPython.core.display.HTML object>"
      ]
     },
     "execution_count": 6,
     "metadata": {},
     "output_type": "execute_result"
    }
   ],
   "source": [
    "resposta = {\n",
    "    \"data\":{\n",
    "        \"xs\": {\n",
    "            'data1': 'x1',\n",
    "            'data2': 'x2',\n",
    "        },\n",
    "        \"columns\": [\n",
    "            ['x1', 0, 20, 45],\n",
    "            ['x2', 45, 20 , 0],\n",
    "            ['data1', 0, 200, 400],\n",
    "            ['data2', 45, 200, 400]\n",
    "        ]\n",
    "    }\n",
    "}\n",
    "plotter.plot(resposta)"
   ]
  },
  {
   "cell_type": "markdown",
   "metadata": {},
   "source": [
    "* Inflação:\n",
    "    * Representado pelo eixo dos preços\n",
    "* Poder de compra:\n",
    "    * Representado pelo eixo das quantidades"
   ]
  }
 ],
 "metadata": {
  "kernelspec": {
   "display_name": "Python 3",
   "language": "python",
   "name": "python3"
  },
  "language_info": {
   "codemirror_mode": {
    "name": "ipython",
    "version": 3
   },
   "file_extension": ".py",
   "mimetype": "text/x-python",
   "name": "python",
   "nbconvert_exporter": "python",
   "pygments_lexer": "ipython3",
   "version": "3.6.2"
  }
 },
 "nbformat": 4,
 "nbformat_minor": 2
}
