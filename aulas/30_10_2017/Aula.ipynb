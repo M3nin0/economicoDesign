{
 "cells": [
  {
   "cell_type": "markdown",
   "metadata": {},
   "source": [
    "### Inflação\n",
    "\n",
    "Trata-se de um movimento sistematico prolongado e persistente de aumento dos níveis gerais de preço\n",
    "\n",
    "\n",
    "#### Considerações\n",
    "\n",
    "N° de movimentos sistemáticos\n",
    "    Compreende a adoção de uma lógica que vai reger os aumentos de preço (Movimento não aleatório);\n",
    "    \n",
    "* Prolongado - Trata-se de um movimento de pelo menos 6 meses consecutivos (A caracterização dos eventos econômicos em geral considera prazos iguais ou maiores a seis meses consecutivos);\n",
    "* Persistente - Significa que o movimento mantém uma trajetório (Tendência constante), podendo alterar apenas a intensidade;\n",
    "* Níveis gerais - Compreende todos os setores econômicos simultâneamente.\n",
    "\n",
    "OBS:\n",
    "\n",
    "* Setor primário: Compreende a caça, pesca, agricultura, pecuária e estrativismo (Vegetal e mineral).\n",
    "* Setor secundário: Corresponde as insdustrias de transformação;\n",
    "* Setor terciário: Corresponde a prestação de serviços;\n",
    "* Segmento: Compreende a uma subdivisão dos setores (Farmaceutica, automobilistica - Segmentos dentro do setor secundário).\n",
    "\n",
    "\n",
    "Os itens abaixo são diferente dos itens acima:\n",
    "\n",
    "* Primeiro setor: (Governos);\n",
    "* Secundo setor:  (Iniciativa privada);\n",
    "* Terceiro setor: (ONGs)\n",
    "\n",
    "\n",
    "#### Tipos de inflação\n",
    "\n",
    "Tipos de inflação\n",
    "* Existem duas classificações iniciais:\n",
    "    * Inflação de demanda\n",
    "        * É aquele em que os aumentos de preço são decorentes do aumento da demanda, neste caso deve-se considerar se o aumento é temporário ou consistente e se decorre de fatores quantitativos e/ou qualitativos</ll>\n",
    "    * Inflação de custos\n",
    "        * Existem ainda duas classificações secundárias:\n",
    "          * Inflação de custos - à posteriore\n",
    "          * Inflação de curtos - à priori"
   ]
  }
 ],
 "metadata": {
  "kernelspec": {
   "display_name": "Python 3",
   "language": "python",
   "name": "python3"
  },
  "language_info": {
   "codemirror_mode": {
    "name": "ipython",
    "version": 3
   },
   "file_extension": ".py",
   "mimetype": "text/x-python",
   "name": "python",
   "nbconvert_exporter": "python",
   "pygments_lexer": "ipython3",
   "version": "3.6.2"
  }
 },
 "nbformat": 4,
 "nbformat_minor": 2
}
